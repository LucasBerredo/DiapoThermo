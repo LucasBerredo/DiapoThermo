{
 "cells": [
  {
   "cell_type": "markdown",
   "id": "5f7b0888",
   "metadata": {
    "vscode": {
     "languageId": "r"
    }
   },
   "source": [
    "# Stefan's Law: Simulation\n",
    "This is R code. Refer to [the installation manual](https://cran.r-project.org/web/packages/IRkernel/readme/README.html) for instructions on how to execute it."
   ]
  },
  {
   "cell_type": "markdown",
   "id": "ff93184a",
   "metadata": {
    "vscode": {
     "languageId": "r"
    }
   },
   "source": [
    "## Variables to be changed"
   ]
  },
  {
   "cell_type": "code",
   "execution_count": null,
   "id": "020c8e5e",
   "metadata": {
    "vscode": {
     "languageId": "r"
    }
   },
   "outputs": [],
   "source": [
    "distances <- c(0.3, 0.4, 0.6, 0.8, 1)               # Distances emitter-thermopile (m)\n",
    "T_ext <- 293.15                                     # External temperature (K)\n",
    "temperatures <- c(293.15, 333.15, 363.15, 395.15)   # Emmiter temperatures (K)\n",
    "isFiltered <- TRUE                                  # Is the thermopile filtered? (Bool)\n",
    "times <- 1:50                                       # Measurement points (default: 1:50 - once every second for 50 seconds)"
   ]
  },
  {
   "cell_type": "markdown",
   "id": "f299b8d4",
   "metadata": {},
   "source": [
    "### Other variables"
   ]
  },
  {
   "cell_type": "code",
   "execution_count": null,
   "id": "d381de81",
   "metadata": {
    "vscode": {
     "languageId": "r"
    }
   },
   "outputs": [],
   "source": [
    "alpha <- 30         # Datasheet: sensitivity \n",
    "r <- 0.025          # Red book\n",
    "d0 <- 0.04          # Red book\n",
    "sigma <- 5.675e-8   # Stefan-Boltzmann constant\n",
    "KC <- 0.1           # Constant (explained later)\n",
    "noise_sd <- 0.05    # Datasheet\n",
    "\n",
    "if (!isFiltered) {\n",
    "    alpha <- 1.1*alpha\n",
    "}"
   ]
  },
  {
   "cell_type": "markdown",
   "id": "8e0782de",
   "metadata": {},
   "source": [
    "## Function of temperature wrt time\n",
    "\n",
    "Parameters:\n",
    "- `t`: time to be evaluated (continuous variable, geq 0)\n",
    "- `PK`: constant. Proportional to the power received by the thermopile\n",
    "- `KC`: constant. Proportional to the inverse of the heat capacity for the thermopile\n",
    "- `T_ext`: external temperature"
   ]
  },
  {
   "cell_type": "code",
   "execution_count": 16,
   "id": "68d86b72",
   "metadata": {
    "vscode": {
     "languageId": "r"
    }
   },
   "outputs": [],
   "source": [
    "T_func <- function(t, PK, KC, T_ext) {\n",
    "    PK * (1-exp(-KC*t)) + T_ext\n",
    "}"
   ]
  },
  {
   "cell_type": "markdown",
   "id": "6b15042c",
   "metadata": {},
   "source": [
    "## Generating the functions for different conditions"
   ]
  },
  {
   "cell_type": "code",
   "execution_count": 32,
   "id": "afd340b2",
   "metadata": {
    "vscode": {
     "languageId": "r"
    }
   },
   "outputs": [],
   "source": [
    "for (d in distances){\n",
    "    for (T in temperatures){\n",
    "        # Figure out the parameters\n",
    "        constant <- alpha*(r/(r+d+d0))^2\n",
    "        PK = T-T_ext\n",
    "\n",
    "        # Define the function\n",
    "        func_name <- paste0(\"DeltaV_d\", d, \"_T\", T)\n",
    "        original_f <- function(x) constant*T_func(x, PK, KC, T_ext)\n",
    "        assign(func_name, f)\n",
    "\n",
    "        # Adding noise\n",
    "        noisy_func_name <- paste0(\"NoisyDeltaV_d\", d, \"_T\", T)\n",
    "        f <- function(x) {\n",
    "            original_val <- original_f(x)\n",
    "            noise <- rnorm(n=1, mean=1, sd=0.05)*original_val\n",
    "            return(noise)\n",
    "        }\n",
    "        assign(noisy_func_name, f)\n",
    "\n",
    "        # Exporting to csv\n",
    "        df <- data.frame(\"Time\"=times, \"Delta V\"=f(times))\n",
    "        filename <- paste0(\"output_d\", d, \"_T\", T, \".csv\")\n",
    "        write.csv(df, filename, row.names=FALSE)\n",
    "\n",
    "    }\n",
    "}"
   ]
  }
 ],
 "metadata": {
  "kernelspec": {
   "display_name": "R",
   "language": "R",
   "name": "ir"
  },
  "language_info": {
   "codemirror_mode": "r",
   "file_extension": ".r",
   "mimetype": "text/x-r-source",
   "name": "R",
   "pygments_lexer": "r",
   "version": "4.4.1"
  }
 },
 "nbformat": 4,
 "nbformat_minor": 5
}
