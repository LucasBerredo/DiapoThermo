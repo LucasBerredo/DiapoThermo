{
 "cells": [
  {
   "cell_type": "code",
   "execution_count": 19,
   "id": "4fc5e5c8",
   "metadata": {},
   "outputs": [],
   "source": [
    "import numpy as np\n",
    "import pandas as pd\n",
    "from scipy.optimize import curve_fit\n",
    "from os import environ\n",
    "import local_dir\n",
    "\n",
    "def arccoth(x):\n",
    "    return 0.5 * np.log((x + 1) / (x - 1))\n",
    "\n",
    "T_i = 437\n",
    "T_f = 294\n",
    "\n",
    "def read_csv(filename):\n",
    "    df = pd.read_csv(\n",
    "        filename,\n",
    "        sep=';',\n",
    "        decimal=','\n",
    "    )\n",
    "    t_data = df[\"Temps\"].values\n",
    "    T_data = df[\"Thermocouple\"].values + 273.15\n",
    "    return t_data, T_data\n",
    "\n",
    "t_data, T_kelvin_data = read_csv(environ[\"PATH\"]+\"/CSV/4. tp5-gris-air-refroid.csv\")\n",
    "\n",
    "T_i = np.ceil(max(T_kelvin_data))\n",
    "T_f = np.floor(min(T_kelvin_data))\n"
   ]
  },
  {
   "cell_type": "code",
   "execution_count": 20,
   "id": "ddebd392",
   "metadata": {},
   "outputs": [
    {
     "name": "stdout",
     "output_type": "stream",
     "text": [
      "84.56185099284478\n"
     ]
    }
   ],
   "source": [
    "def theoretical_model(t, tau):\n",
    "    term1 = np.arctan(np.exp(2) * arccoth(T_kelvin_data / T_f))\n",
    "    term2 = np.arctan(np.exp(2) * arccoth(T_i / T_f))\n",
    "    term3 = arccoth(T_kelvin_data / T_f)\n",
    "    term4 = arccoth(T_i / T_f)\n",
    "    return 2 * tau * (term1 - term2 + term3 - term4)\n",
    "\n",
    "# Use curve_fit to find the optimal tau\n",
    "popt, pcov = curve_fit(theoretical_model, t_data, T_kelvin_data, p0=[1.0])\n",
    "optimal_tau = popt[0]\n",
    "print(optimal_tau)"
   ]
  }
 ],
 "metadata": {
  "kernelspec": {
   "display_name": ".venv",
   "language": "python",
   "name": "python3"
  },
  "language_info": {
   "codemirror_mode": {
    "name": "ipython",
    "version": 3
   },
   "file_extension": ".py",
   "mimetype": "text/x-python",
   "name": "python",
   "nbconvert_exporter": "python",
   "pygments_lexer": "ipython3",
   "version": "3.11.0"
  }
 },
 "nbformat": 4,
 "nbformat_minor": 5
}
